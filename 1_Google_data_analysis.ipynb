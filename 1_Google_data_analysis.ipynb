{
 "cells": [
  {
   "cell_type": "markdown",
   "id": "9d9ddc6e-1529-4d57-800e-efcc0578cb28",
   "metadata": {
    "jp-MarkdownHeadingCollapsed": true
   },
   "source": [
    "# Data cleaning (\"Play Store\")"
   ]
  },
  {
   "cell_type": "code",
   "execution_count": 1,
   "id": "0b00e2c0-b641-4717-a816-ec1081191224",
   "metadata": {},
   "outputs": [],
   "source": [
    "import pandas as pd\n",
    "import numpy as np"
   ]
  },
  {
   "cell_type": "code",
   "execution_count": 2,
   "id": "bc19818f-253a-46de-8d84-892e5bd4cd10",
   "metadata": {},
   "outputs": [],
   "source": [
    "# Load the data \n",
    "playstore_df = pd.read_csv('Play Store Data.csv')"
   ]
  },
  {
   "cell_type": "code",
   "execution_count": 3,
   "id": "0a4ebdd0-0e1c-417f-a8a3-43ea54ebd8cd",
   "metadata": {
    "scrolled": true
   },
   "outputs": [
    {
     "data": {
      "text/html": [
       "<div>\n",
       "<style scoped>\n",
       "    .dataframe tbody tr th:only-of-type {\n",
       "        vertical-align: middle;\n",
       "    }\n",
       "\n",
       "    .dataframe tbody tr th {\n",
       "        vertical-align: top;\n",
       "    }\n",
       "\n",
       "    .dataframe thead th {\n",
       "        text-align: right;\n",
       "    }\n",
       "</style>\n",
       "<table border=\"1\" class=\"dataframe\">\n",
       "  <thead>\n",
       "    <tr style=\"text-align: right;\">\n",
       "      <th></th>\n",
       "      <th>App</th>\n",
       "      <th>Category</th>\n",
       "      <th>Rating</th>\n",
       "      <th>Reviews</th>\n",
       "      <th>Size</th>\n",
       "      <th>Installs</th>\n",
       "      <th>Type</th>\n",
       "      <th>Price</th>\n",
       "      <th>Content Rating</th>\n",
       "      <th>Genres</th>\n",
       "      <th>Last Updated</th>\n",
       "      <th>Current Ver</th>\n",
       "      <th>Android Ver</th>\n",
       "    </tr>\n",
       "  </thead>\n",
       "  <tbody>\n",
       "    <tr>\n",
       "      <th>0</th>\n",
       "      <td>Photo Editor &amp; Candy Camera &amp; Grid &amp; ScrapBook</td>\n",
       "      <td>ART_AND_DESIGN</td>\n",
       "      <td>4.1</td>\n",
       "      <td>159</td>\n",
       "      <td>19M</td>\n",
       "      <td>10,000+</td>\n",
       "      <td>Free</td>\n",
       "      <td>0</td>\n",
       "      <td>Everyone</td>\n",
       "      <td>Art &amp; Design</td>\n",
       "      <td>January 7, 2018</td>\n",
       "      <td>1.0.0</td>\n",
       "      <td>4.0.3 and up</td>\n",
       "    </tr>\n",
       "    <tr>\n",
       "      <th>1</th>\n",
       "      <td>Coloring book moana</td>\n",
       "      <td>ART_AND_DESIGN</td>\n",
       "      <td>3.9</td>\n",
       "      <td>967</td>\n",
       "      <td>14M</td>\n",
       "      <td>500,000+</td>\n",
       "      <td>Free</td>\n",
       "      <td>0</td>\n",
       "      <td>Everyone</td>\n",
       "      <td>Art &amp; Design;Pretend Play</td>\n",
       "      <td>January 15, 2018</td>\n",
       "      <td>2.0.0</td>\n",
       "      <td>4.0.3 and up</td>\n",
       "    </tr>\n",
       "    <tr>\n",
       "      <th>2</th>\n",
       "      <td>U Launcher Lite – FREE Live Cool Themes, Hide ...</td>\n",
       "      <td>ART_AND_DESIGN</td>\n",
       "      <td>4.7</td>\n",
       "      <td>87510</td>\n",
       "      <td>8.7M</td>\n",
       "      <td>5,000,000+</td>\n",
       "      <td>Free</td>\n",
       "      <td>0</td>\n",
       "      <td>Everyone</td>\n",
       "      <td>Art &amp; Design</td>\n",
       "      <td>August 1, 2018</td>\n",
       "      <td>1.2.4</td>\n",
       "      <td>4.0.3 and up</td>\n",
       "    </tr>\n",
       "    <tr>\n",
       "      <th>3</th>\n",
       "      <td>Sketch - Draw &amp; Paint</td>\n",
       "      <td>ART_AND_DESIGN</td>\n",
       "      <td>4.5</td>\n",
       "      <td>215644</td>\n",
       "      <td>25M</td>\n",
       "      <td>50,000,000+</td>\n",
       "      <td>Free</td>\n",
       "      <td>0</td>\n",
       "      <td>Teen</td>\n",
       "      <td>Art &amp; Design</td>\n",
       "      <td>June 8, 2018</td>\n",
       "      <td>Varies with device</td>\n",
       "      <td>4.2 and up</td>\n",
       "    </tr>\n",
       "    <tr>\n",
       "      <th>4</th>\n",
       "      <td>Pixel Draw - Number Art Coloring Book</td>\n",
       "      <td>ART_AND_DESIGN</td>\n",
       "      <td>4.3</td>\n",
       "      <td>967</td>\n",
       "      <td>2.8M</td>\n",
       "      <td>100,000+</td>\n",
       "      <td>Free</td>\n",
       "      <td>0</td>\n",
       "      <td>Everyone</td>\n",
       "      <td>Art &amp; Design;Creativity</td>\n",
       "      <td>June 20, 2018</td>\n",
       "      <td>1.1</td>\n",
       "      <td>4.4 and up</td>\n",
       "    </tr>\n",
       "  </tbody>\n",
       "</table>\n",
       "</div>"
      ],
      "text/plain": [
       "                                                 App        Category  Rating  \\\n",
       "0     Photo Editor & Candy Camera & Grid & ScrapBook  ART_AND_DESIGN     4.1   \n",
       "1                                Coloring book moana  ART_AND_DESIGN     3.9   \n",
       "2  U Launcher Lite – FREE Live Cool Themes, Hide ...  ART_AND_DESIGN     4.7   \n",
       "3                              Sketch - Draw & Paint  ART_AND_DESIGN     4.5   \n",
       "4              Pixel Draw - Number Art Coloring Book  ART_AND_DESIGN     4.3   \n",
       "\n",
       "  Reviews  Size     Installs  Type Price Content Rating  \\\n",
       "0     159   19M      10,000+  Free     0       Everyone   \n",
       "1     967   14M     500,000+  Free     0       Everyone   \n",
       "2   87510  8.7M   5,000,000+  Free     0       Everyone   \n",
       "3  215644   25M  50,000,000+  Free     0           Teen   \n",
       "4     967  2.8M     100,000+  Free     0       Everyone   \n",
       "\n",
       "                      Genres      Last Updated         Current Ver  \\\n",
       "0               Art & Design   January 7, 2018               1.0.0   \n",
       "1  Art & Design;Pretend Play  January 15, 2018               2.0.0   \n",
       "2               Art & Design    August 1, 2018               1.2.4   \n",
       "3               Art & Design      June 8, 2018  Varies with device   \n",
       "4    Art & Design;Creativity     June 20, 2018                 1.1   \n",
       "\n",
       "    Android Ver  \n",
       "0  4.0.3 and up  \n",
       "1  4.0.3 and up  \n",
       "2  4.0.3 and up  \n",
       "3    4.2 and up  \n",
       "4    4.4 and up  "
      ]
     },
     "execution_count": 3,
     "metadata": {},
     "output_type": "execute_result"
    }
   ],
   "source": [
    "playstore_df.head()"
   ]
  },
  {
   "cell_type": "code",
   "execution_count": 4,
   "id": "546077fb-1a3f-419b-a195-343e76c854ab",
   "metadata": {},
   "outputs": [],
   "source": [
    "# playstore_df.info()"
   ]
  },
  {
   "cell_type": "code",
   "execution_count": 5,
   "id": "b5bef625-1d73-47c9-aafc-dc478703eae4",
   "metadata": {},
   "outputs": [
    {
     "data": {
      "text/plain": [
       "App                  0\n",
       "Category             0\n",
       "Rating            1474\n",
       "Reviews              0\n",
       "Size                 0\n",
       "Installs             0\n",
       "Type                 1\n",
       "Price                0\n",
       "Content Rating       1\n",
       "Genres               0\n",
       "Last Updated         0\n",
       "Current Ver          8\n",
       "Android Ver          3\n",
       "dtype: int64"
      ]
     },
     "execution_count": 5,
     "metadata": {},
     "output_type": "execute_result"
    }
   ],
   "source": [
    " playstore_df.isna().sum()"
   ]
  },
  {
   "cell_type": "code",
   "execution_count": 6,
   "id": "b1ce8f07-306d-43c9-88a0-4b5615745730",
   "metadata": {},
   "outputs": [],
   "source": [
    "# Delete all the remaining null values \n",
    "playstore_df.dropna(inplace=True)"
   ]
  },
  {
   "cell_type": "code",
   "execution_count": 7,
   "id": "97b18e6d-420b-4317-bbd0-487c915091cf",
   "metadata": {},
   "outputs": [],
   "source": [
    "# Check unique values:-\n",
    "# playstore_df['Installs'].unique() \n",
    "# playstore_df['Reviews'].unique()"
   ]
  },
  {
   "cell_type": "code",
   "execution_count": 8,
   "id": "5c92c093-287a-45b3-ad0d-caa115ef5ae1",
   "metadata": {},
   "outputs": [],
   "source": [
    "# Convert all values in the 'Installs' to strings and remove special characters\n",
    "playstore_df['Installs'] = ( playstore_df['Installs'].astype(str).str.replace(r'[^\\d]', '', regex=True))\n",
    "\n",
    "# Convert the cleaned values to integers\n",
    "playstore_df['Installs'] = playstore_df['Installs'].astype(int)"
   ]
  },
  {
   "cell_type": "code",
   "execution_count": 9,
   "id": "67b1b8c5-820e-4b8b-a774-56818b1d4abb",
   "metadata": {},
   "outputs": [],
   "source": [
    "# Change the data type of the column \"Reviews\"\n",
    "playstore_df['Reviews'] = playstore_df['Reviews'].astype(int)"
   ]
  },
  {
   "cell_type": "code",
   "execution_count": 10,
   "id": "a4cf7e03-c18a-4bd7-bbbb-a44db8a37137",
   "metadata": {},
   "outputs": [],
   "source": [
    "# Extract the numeric part of the Android version\n",
    "playstore_df['Android Ver'] = playstore_df['Android Ver'].str.extract(r'(\\d+\\.\\d+)').astype(float)"
   ]
  },
  {
   "cell_type": "code",
   "execution_count": 11,
   "id": "29867235-f869-49b2-b79a-d6afe3b3841a",
   "metadata": {},
   "outputs": [],
   "source": [
    "# playstore_df['Android Ver'].unique()"
   ]
  },
  {
   "cell_type": "code",
   "execution_count": 12,
   "id": "89668d22-3892-4f2f-847e-9b3f92158492",
   "metadata": {},
   "outputs": [],
   "source": [
    "# Replace all the special symbols from \"Price\" column\n",
    "playstore_df['Price'] = playstore_df['Price'].str.replace('$','').str.replace('Everyone','0').astype(float)"
   ]
  },
  {
   "cell_type": "code",
   "execution_count": 13,
   "id": "78e77cf2-92f2-464e-b5fb-7699d2f10b90",
   "metadata": {},
   "outputs": [],
   "source": [
    "# Create a new column 'revenue'\n",
    "playstore_df['revenue'] = playstore_df['Price']* playstore_df['Installs']"
   ]
  },
  {
   "cell_type": "code",
   "execution_count": 14,
   "id": "7594d2ec-8d8f-45a0-99fd-e34e760aaa05",
   "metadata": {},
   "outputs": [],
   "source": [
    "# playstore_df['Rating'].unique()\n",
    "# playstore_df['Type'].unique()\n",
    "# playstore_df['Content Rating'].unique()"
   ]
  },
  {
   "cell_type": "code",
   "execution_count": 15,
   "id": "a3523d9d-171b-4dc1-a0b0-9ccc7d433a8e",
   "metadata": {},
   "outputs": [
    {
     "data": {
      "text/plain": [
       "(9360, 14)"
      ]
     },
     "execution_count": 15,
     "metadata": {},
     "output_type": "execute_result"
    }
   ],
   "source": [
    "playstore_df.shape"
   ]
  },
  {
   "cell_type": "code",
   "execution_count": 16,
   "id": "b91d6bf8-ea20-4143-a2af-9f92e4bfb554",
   "metadata": {
    "scrolled": true
   },
   "outputs": [
    {
     "name": "stdout",
     "output_type": "stream",
     "text": [
      "<class 'pandas.core.frame.DataFrame'>\n",
      "Index: 9360 entries, 0 to 10840\n",
      "Data columns (total 14 columns):\n",
      " #   Column          Non-Null Count  Dtype  \n",
      "---  ------          --------------  -----  \n",
      " 0   App             9360 non-null   object \n",
      " 1   Category        9360 non-null   object \n",
      " 2   Rating          9360 non-null   float64\n",
      " 3   Reviews         9360 non-null   int64  \n",
      " 4   Size            9360 non-null   object \n",
      " 5   Installs        9360 non-null   int64  \n",
      " 6   Type            9360 non-null   object \n",
      " 7   Price           9360 non-null   float64\n",
      " 8   Content Rating  9360 non-null   object \n",
      " 9   Genres          9360 non-null   object \n",
      " 10  Last Updated    9360 non-null   object \n",
      " 11  Current Ver     9360 non-null   object \n",
      " 12  Android Ver     8041 non-null   float64\n",
      " 13  revenue         9360 non-null   float64\n",
      "dtypes: float64(4), int64(2), object(8)\n",
      "memory usage: 1.1+ MB\n"
     ]
    }
   ],
   "source": [
    "playstore_df.info()"
   ]
  },
  {
   "cell_type": "markdown",
   "id": "8bdd65b9-e99c-4538-a5a7-5c2e0b76bc20",
   "metadata": {
    "jp-MarkdownHeadingCollapsed": true
   },
   "source": [
    "# Data cleaning (\"User Reviews\")"
   ]
  },
  {
   "cell_type": "code",
   "execution_count": 17,
   "id": "c45cb21d-b81b-46a5-abab-d5d2ebfbc490",
   "metadata": {},
   "outputs": [],
   "source": [
    "user = pd.read_csv('User Reviews.csv')"
   ]
  },
  {
   "cell_type": "code",
   "execution_count": 18,
   "id": "3a864466-2a5a-4e73-a7f5-6e1f9c62176d",
   "metadata": {},
   "outputs": [
    {
     "data": {
      "text/html": [
       "<div>\n",
       "<style scoped>\n",
       "    .dataframe tbody tr th:only-of-type {\n",
       "        vertical-align: middle;\n",
       "    }\n",
       "\n",
       "    .dataframe tbody tr th {\n",
       "        vertical-align: top;\n",
       "    }\n",
       "\n",
       "    .dataframe thead th {\n",
       "        text-align: right;\n",
       "    }\n",
       "</style>\n",
       "<table border=\"1\" class=\"dataframe\">\n",
       "  <thead>\n",
       "    <tr style=\"text-align: right;\">\n",
       "      <th></th>\n",
       "      <th>App</th>\n",
       "      <th>Translated_Review</th>\n",
       "      <th>Sentiment</th>\n",
       "      <th>Sentiment_Polarity</th>\n",
       "      <th>Sentiment_Subjectivity</th>\n",
       "    </tr>\n",
       "  </thead>\n",
       "  <tbody>\n",
       "    <tr>\n",
       "      <th>0</th>\n",
       "      <td>10 Best Foods for You</td>\n",
       "      <td>I like eat delicious food. That's I'm cooking ...</td>\n",
       "      <td>Positive</td>\n",
       "      <td>1.00</td>\n",
       "      <td>0.533333</td>\n",
       "    </tr>\n",
       "    <tr>\n",
       "      <th>1</th>\n",
       "      <td>10 Best Foods for You</td>\n",
       "      <td>This help eating healthy exercise regular basis</td>\n",
       "      <td>Positive</td>\n",
       "      <td>0.25</td>\n",
       "      <td>0.288462</td>\n",
       "    </tr>\n",
       "    <tr>\n",
       "      <th>2</th>\n",
       "      <td>10 Best Foods for You</td>\n",
       "      <td>NaN</td>\n",
       "      <td>NaN</td>\n",
       "      <td>NaN</td>\n",
       "      <td>NaN</td>\n",
       "    </tr>\n",
       "  </tbody>\n",
       "</table>\n",
       "</div>"
      ],
      "text/plain": [
       "                     App                                  Translated_Review  \\\n",
       "0  10 Best Foods for You  I like eat delicious food. That's I'm cooking ...   \n",
       "1  10 Best Foods for You    This help eating healthy exercise regular basis   \n",
       "2  10 Best Foods for You                                                NaN   \n",
       "\n",
       "  Sentiment  Sentiment_Polarity  Sentiment_Subjectivity  \n",
       "0  Positive                1.00                0.533333  \n",
       "1  Positive                0.25                0.288462  \n",
       "2       NaN                 NaN                     NaN  "
      ]
     },
     "execution_count": 18,
     "metadata": {},
     "output_type": "execute_result"
    }
   ],
   "source": [
    "user.head(3)"
   ]
  },
  {
   "cell_type": "code",
   "execution_count": 19,
   "id": "5582c308-814b-4473-8311-e5d46ebd9176",
   "metadata": {},
   "outputs": [
    {
     "data": {
      "text/plain": [
       "(64295, 5)"
      ]
     },
     "execution_count": 19,
     "metadata": {},
     "output_type": "execute_result"
    }
   ],
   "source": [
    "user.shape"
   ]
  },
  {
   "cell_type": "code",
   "execution_count": 20,
   "id": "fe55a3f6-5fdc-4149-970d-6fc6dd3e111c",
   "metadata": {},
   "outputs": [
    {
     "data": {
      "text/plain": [
       "App                           0\n",
       "Translated_Review         26868\n",
       "Sentiment                 26863\n",
       "Sentiment_Polarity        26863\n",
       "Sentiment_Subjectivity    26863\n",
       "dtype: int64"
      ]
     },
     "execution_count": 20,
     "metadata": {},
     "output_type": "execute_result"
    }
   ],
   "source": [
    "user.isna().sum()"
   ]
  },
  {
   "cell_type": "code",
   "execution_count": 21,
   "id": "a2f1b865-af4c-41b7-8082-83d94bbd359c",
   "metadata": {
    "scrolled": true
   },
   "outputs": [],
   "source": [
    "# user['Sentiment_Subjectivity'].unique()"
   ]
  },
  {
   "cell_type": "code",
   "execution_count": 22,
   "id": "978ddf10-03b5-4a67-b1e0-1475c07fbe26",
   "metadata": {},
   "outputs": [],
   "source": [
    "# fill all the null values with \"no\" for columns :  'Translated_Review' , 'Sentiment'\n",
    "user[['Translated_Review','Sentiment']] = user[['Translated_Review','Sentiment']].fillna('no')\n",
    "\n",
    "# fill all the null values with \"0\" for columns : 'Sentiment_Polarity'  , 'Sentiment_Subjectivity'  \n",
    "user[['Sentiment_Polarity','Sentiment_Subjectivity']] = user[['Sentiment_Polarity','Sentiment_Subjectivity']].fillna('0')"
   ]
  },
  {
   "cell_type": "code",
   "execution_count": 23,
   "id": "5bc3514d-a84b-4fa8-bb86-acf52ad61ab7",
   "metadata": {},
   "outputs": [],
   "source": [
    "user['Sentiment_Polarity'] = user['Sentiment_Polarity'].str.replace('-','').astype(float)\n",
    "user['Sentiment_Subjectivity'] = user['Sentiment_Subjectivity'].astype(float)"
   ]
  },
  {
   "cell_type": "code",
   "execution_count": 24,
   "id": "195f9e5a-119f-40e2-b543-7d883f27d7ff",
   "metadata": {},
   "outputs": [
    {
     "name": "stdout",
     "output_type": "stream",
     "text": [
      "<class 'pandas.core.frame.DataFrame'>\n",
      "RangeIndex: 64295 entries, 0 to 64294\n",
      "Data columns (total 5 columns):\n",
      " #   Column                  Non-Null Count  Dtype  \n",
      "---  ------                  --------------  -----  \n",
      " 0   App                     64295 non-null  object \n",
      " 1   Translated_Review       64295 non-null  object \n",
      " 2   Sentiment               64295 non-null  object \n",
      " 3   Sentiment_Polarity      26863 non-null  float64\n",
      " 4   Sentiment_Subjectivity  64295 non-null  float64\n",
      "dtypes: float64(2), object(3)\n",
      "memory usage: 2.5+ MB\n"
     ]
    }
   ],
   "source": [
    "user.info()"
   ]
  },
  {
   "cell_type": "markdown",
   "id": "d32a705c-9dd0-41e6-9e24-af244069ef5b",
   "metadata": {},
   "source": [
    "# Merge both data set"
   ]
  },
  {
   "cell_type": "code",
   "execution_count": 25,
   "id": "00e3d62a-6883-4cf0-98a3-55a834a522a2",
   "metadata": {},
   "outputs": [],
   "source": [
    "# Inner join data\n",
    "merged_df = pd.merge(playstore_df, user, on='App', how='inner')"
   ]
  },
  {
   "cell_type": "code",
   "execution_count": 26,
   "id": "3fbb5ed6-2fd1-4db4-baaa-e4c6df3a3468",
   "metadata": {},
   "outputs": [
    {
     "data": {
      "text/html": [
       "<div>\n",
       "<style scoped>\n",
       "    .dataframe tbody tr th:only-of-type {\n",
       "        vertical-align: middle;\n",
       "    }\n",
       "\n",
       "    .dataframe tbody tr th {\n",
       "        vertical-align: top;\n",
       "    }\n",
       "\n",
       "    .dataframe thead th {\n",
       "        text-align: right;\n",
       "    }\n",
       "</style>\n",
       "<table border=\"1\" class=\"dataframe\">\n",
       "  <thead>\n",
       "    <tr style=\"text-align: right;\">\n",
       "      <th></th>\n",
       "      <th>App</th>\n",
       "      <th>Category</th>\n",
       "      <th>Rating</th>\n",
       "      <th>Reviews</th>\n",
       "      <th>Size</th>\n",
       "      <th>Installs</th>\n",
       "      <th>Type</th>\n",
       "      <th>Price</th>\n",
       "      <th>Content Rating</th>\n",
       "      <th>Genres</th>\n",
       "      <th>Last Updated</th>\n",
       "      <th>Current Ver</th>\n",
       "      <th>Android Ver</th>\n",
       "      <th>revenue</th>\n",
       "      <th>Translated_Review</th>\n",
       "      <th>Sentiment</th>\n",
       "      <th>Sentiment_Polarity</th>\n",
       "      <th>Sentiment_Subjectivity</th>\n",
       "    </tr>\n",
       "  </thead>\n",
       "  <tbody>\n",
       "    <tr>\n",
       "      <th>0</th>\n",
       "      <td>Coloring book moana</td>\n",
       "      <td>ART_AND_DESIGN</td>\n",
       "      <td>3.9</td>\n",
       "      <td>967</td>\n",
       "      <td>14M</td>\n",
       "      <td>500000</td>\n",
       "      <td>Free</td>\n",
       "      <td>0.0</td>\n",
       "      <td>Everyone</td>\n",
       "      <td>Art &amp; Design;Pretend Play</td>\n",
       "      <td>January 15, 2018</td>\n",
       "      <td>2.0.0</td>\n",
       "      <td>4.0</td>\n",
       "      <td>0.0</td>\n",
       "      <td>A kid's excessive ads. The types ads allowed a...</td>\n",
       "      <td>Negative</td>\n",
       "      <td>NaN</td>\n",
       "      <td>1.000000</td>\n",
       "    </tr>\n",
       "    <tr>\n",
       "      <th>1</th>\n",
       "      <td>Coloring book moana</td>\n",
       "      <td>ART_AND_DESIGN</td>\n",
       "      <td>3.9</td>\n",
       "      <td>967</td>\n",
       "      <td>14M</td>\n",
       "      <td>500000</td>\n",
       "      <td>Free</td>\n",
       "      <td>0.0</td>\n",
       "      <td>Everyone</td>\n",
       "      <td>Art &amp; Design;Pretend Play</td>\n",
       "      <td>January 15, 2018</td>\n",
       "      <td>2.0.0</td>\n",
       "      <td>4.0</td>\n",
       "      <td>0.0</td>\n",
       "      <td>It bad &gt;:(</td>\n",
       "      <td>Negative</td>\n",
       "      <td>NaN</td>\n",
       "      <td>0.833333</td>\n",
       "    </tr>\n",
       "    <tr>\n",
       "      <th>2</th>\n",
       "      <td>Coloring book moana</td>\n",
       "      <td>ART_AND_DESIGN</td>\n",
       "      <td>3.9</td>\n",
       "      <td>967</td>\n",
       "      <td>14M</td>\n",
       "      <td>500000</td>\n",
       "      <td>Free</td>\n",
       "      <td>0.0</td>\n",
       "      <td>Everyone</td>\n",
       "      <td>Art &amp; Design;Pretend Play</td>\n",
       "      <td>January 15, 2018</td>\n",
       "      <td>2.0.0</td>\n",
       "      <td>4.0</td>\n",
       "      <td>0.0</td>\n",
       "      <td>like</td>\n",
       "      <td>Neutral</td>\n",
       "      <td>NaN</td>\n",
       "      <td>0.000000</td>\n",
       "    </tr>\n",
       "  </tbody>\n",
       "</table>\n",
       "</div>"
      ],
      "text/plain": [
       "                   App        Category  Rating  Reviews Size  Installs  Type  \\\n",
       "0  Coloring book moana  ART_AND_DESIGN     3.9      967  14M    500000  Free   \n",
       "1  Coloring book moana  ART_AND_DESIGN     3.9      967  14M    500000  Free   \n",
       "2  Coloring book moana  ART_AND_DESIGN     3.9      967  14M    500000  Free   \n",
       "\n",
       "   Price Content Rating                     Genres      Last Updated  \\\n",
       "0    0.0       Everyone  Art & Design;Pretend Play  January 15, 2018   \n",
       "1    0.0       Everyone  Art & Design;Pretend Play  January 15, 2018   \n",
       "2    0.0       Everyone  Art & Design;Pretend Play  January 15, 2018   \n",
       "\n",
       "  Current Ver  Android Ver  revenue  \\\n",
       "0       2.0.0          4.0      0.0   \n",
       "1       2.0.0          4.0      0.0   \n",
       "2       2.0.0          4.0      0.0   \n",
       "\n",
       "                                   Translated_Review Sentiment  \\\n",
       "0  A kid's excessive ads. The types ads allowed a...  Negative   \n",
       "1                                         It bad >:(  Negative   \n",
       "2                                               like   Neutral   \n",
       "\n",
       "   Sentiment_Polarity  Sentiment_Subjectivity  \n",
       "0                 NaN                1.000000  \n",
       "1                 NaN                0.833333  \n",
       "2                 NaN                0.000000  "
      ]
     },
     "execution_count": 26,
     "metadata": {},
     "output_type": "execute_result"
    }
   ],
   "source": [
    "merged_df.head(3)"
   ]
  },
  {
   "cell_type": "markdown",
   "id": "8ff8c567-f9cb-42a1-8059-1845f2866a86",
   "metadata": {
    "jp-MarkdownHeadingCollapsed": true
   },
   "source": [
    "#### Q1>  Create a scatter plot to visualize the relationship between revenue and the number of installs for paid\n",
    "####      apps only. Add a trendline to show the correlation and color-code the points based on app categories."
   ]
  },
  {
   "cell_type": "code",
   "execution_count": 27,
   "id": "c6f34f30-7db1-4584-9769-fa0b5765f807",
   "metadata": {},
   "outputs": [],
   "source": [
    "import pandas as pd\n",
    "import seaborn as sns\n",
    "import matplotlib.pyplot as plt"
   ]
  },
  {
   "cell_type": "code",
   "execution_count": 35,
   "id": "6dbb1adb-fa7c-4cb1-9ce3-24c90693c688",
   "metadata": {},
   "outputs": [
    {
     "data": {
      "text/plain": [
       "<Figure size 800x400 with 0 Axes>"
      ]
     },
     "metadata": {},
     "output_type": "display_data"
    },
    {
     "data": {
      "image/png": "[encoded data removed]",
      "text/plain": [
       "<Figure size 1079.62x600 with 1 Axes>"
      ]
     },
     "metadata": {},
     "output_type": "display_data"
    }
   ],
   "source": [
    "# Filter the DataFrame for paid apps only\n",
    "paid_apps_df = merged_df[merged_df['Type'] == 'Paid']\n",
    "\n",
    "# Set the figure size\n",
    "plt.figure(figsize=(8, 4))\n",
    "\n",
    "# Create the scatter plot with a trendline and color-code points by 'Category'\n",
    "sns.lmplot(\n",
    "    data=paid_apps_df,\n",
    "    x='Installs',\n",
    "    y='revenue',\n",
    "    hue='Category',  # Color-code points based on 'Category'\n",
    "    height=6,\n",
    "    aspect=1.5,\n",
    "    scatter_kws={'alpha': 0.6, 's': 50},  # Adjust transparency and point size\n",
    "    line_kws={'color': 'black', 'linewidth': 1.5},  # Customize trendline\n",
    "    markers='o'\n",
    ")\n",
    "\n",
    "# Add labels and title\n",
    "plt.xlabel('Number of Installs')\n",
    "plt.ylabel('Revenue')\n",
    "plt.title('Relationship Between Revenue and Number of Installs for Paid Apps', fontsize=14)\n",
    "\n",
    "# Show the plot\n",
    "plt.tight_layout()\n",
    "plt.show()\n"
   ]
  },
  {
   "cell_type": "code",
   "execution_count": null,
   "id": "a055e180-5712-4ccc-95ca-42d9782cc732",
   "metadata": {},
   "outputs": [],
   "source": []
  },
  {
   "cell_type": "markdown",
   "id": "59a69c17-c3e6-416c-b250-085daac8ce87",
   "metadata": {},
   "source": [
    "#### Q2> Create a dual-axis chart comparing the average installs and revenue for free vs. paid apps within the top 3\n",
    "####     app categories. Apply filters to exclude apps with fewer than 10,000 installs and revenue below $10,000 and\n",
    "####     android version should be more than 4.0 as well as size should be more than 15M and content rating should\n",
    "####     be Everyone and app name should not have more than 30 characters including space and special character.\n",
    "####     this graph should work only between 1 PM IST to 2 PM IST apart from that time we should not show this\n",
    "####     graph in dashboard itself."
   ]
  },
  {
   "cell_type": "code",
   "execution_count": 29,
   "id": "ce302b11-c420-4581-8e2c-3fcf1e1d39d2",
   "metadata": {},
   "outputs": [
    {
     "ename": "NameError",
     "evalue": "name 'filtered_df' is not defined",
     "output_type": "error",
     "traceback": [
      "\u001b[1;31m---------------------------------------------------------------------------\u001b[0m",
      "\u001b[1;31mNameError\u001b[0m                                 Traceback (most recent call last)",
      "Cell \u001b[1;32mIn[29], line 2\u001b[0m\n\u001b[0;32m      1\u001b[0m \u001b[38;5;66;03m# Calculate the top 3 app categories based on the number of apps\u001b[39;00m\n\u001b[1;32m----> 2\u001b[0m top_categories \u001b[38;5;241m=\u001b[39m \u001b[43mfiltered_df\u001b[49m[\u001b[38;5;124m'\u001b[39m\u001b[38;5;124mCategory\u001b[39m\u001b[38;5;124m'\u001b[39m]\u001b[38;5;241m.\u001b[39mvalue_counts()\u001b[38;5;241m.\u001b[39mhead(\u001b[38;5;241m3\u001b[39m)\u001b[38;5;241m.\u001b[39mindex\n\u001b[0;32m      3\u001b[0m filtered_df \u001b[38;5;241m=\u001b[39m filtered_df[filtered_df[\u001b[38;5;124m'\u001b[39m\u001b[38;5;124mCategory\u001b[39m\u001b[38;5;124m'\u001b[39m]\u001b[38;5;241m.\u001b[39misin(top_categories)]\n\u001b[0;32m      5\u001b[0m \u001b[38;5;66;03m# Group by category and type (Free or Paid), calculate average installs and revenue\u001b[39;00m\n",
      "\u001b[1;31mNameError\u001b[0m: name 'filtered_df' is not defined"
     ]
    }
   ],
   "source": [
    "# Calculate the top 3 app categories based on the number of apps\n",
    "top_categories = filtered_df['Category'].value_counts().head(3).index\n",
    "filtered_df = filtered_df[filtered_df['Category'].isin(top_categories)]\n",
    "\n",
    "# Group by category and type (Free or Paid), calculate average installs and revenue\n",
    "aggregated_data = filtered_df.groupby(['Category', 'Type']).agg(\n",
    "    Average_Installs=('Installs', 'mean'),\n",
    "    Average_Revenue=('Revenue', 'mean')\n",
    ").reset_index()\n",
    "\n",
    "# Set up the plot\n",
    "fig, ax1 = plt.subplots(figsize=(12, 6))\n",
    "\n",
    "# Bar plot for Average Installs\n",
    "sns.barplot(\n",
    "    data=aggregated_data,\n",
    "    x='Category',\n",
    "    y='Average_Installs',\n",
    "    hue='Type',\n",
    "    ax=ax1,\n",
    "    palette='Blues'\n",
    ")\n",
    "ax1.set_ylabel('Average Installs', color='blue')\n",
    "ax1.tick_params(axis='y', labelcolor='blue')\n",
    "ax1.set_title('Comparison of Average Installs and Revenue for Free vs. Paid Apps')\n",
    "\n",
    "# Create a second y-axis for Average Revenue\n",
    "ax2 = ax1.twinx()\n",
    "sns.lineplot(\n",
    "    data=aggregated_data,\n",
    "    x='Category',\n",
    "    y='Average_Revenue',\n",
    "    hue='Type',\n",
    "    ax=ax2,\n",
    "    marker='o',\n",
    "    linestyle='--',\n",
    "    palette='dark:red'\n",
    ")\n",
    "ax2.set_ylabel('Average Revenue', color='red')\n",
    "ax2.tick_params(axis='y', labelcolor='red')\n",
    "\n",
    "# Adjust legend to avoid overlapping\n",
    "ax1.legend(loc='upper left', bbox_to_anchor=(1.02, 1), title='Type')\n",
    "ax2.legend_.remove()\n",
    "\n",
    "plt.tight_layout()\n",
    "plt.show()\n"
   ]
  },
  {
   "cell_type": "code",
   "execution_count": null,
   "id": "62cd1fe3-67c0-4172-9dd1-59c1a86f4f10",
   "metadata": {},
   "outputs": [],
   "source": [
    "merged_df.columns"
   ]
  },
  {
   "cell_type": "code",
   "execution_count": null,
   "id": "2eb77374-940c-4a9e-a7bc-9c71e365e3a1",
   "metadata": {},
   "outputs": [],
   "source": [
    "merged_df['Android Ver'].unique()\n",
    "merged_df['Android Ver'].dropna(inplace=True)"
   ]
  },
  {
   "cell_type": "code",
   "execution_count": null,
   "id": "6fa14226-c05b-4d0a-bcc0-54b6560b3f1c",
   "metadata": {},
   "outputs": [],
   "source": [
    "import matplotlib.pyplot as plt\n",
    "import seaborn as sns\n",
    "\n",
    "# Filter the DataFrame based on the provided conditions\n",
    "filtered_df = merged_df[\n",
    "    (merged_df['Installs'] >= 10000) &\n",
    "    (merged_df['revenue'] >= 10000) &\n",
    "    (merged_df['Android Ver'] > 4.0) &\n",
    "    (merged_df['Size'] > 15) &  \n",
    "    (merged_df['Content Rating'] == 'Everyone') &\n",
    "    (merged_df['App'].str.len() <= 30)\n",
    "]"
   ]
  },
  {
   "cell_type": "code",
   "execution_count": null,
   "id": "22e4b4a8-d02a-4d7a-bdf1-a0d2ac633f66",
   "metadata": {},
   "outputs": [],
   "source": [
    "merged_df.iloc[5:60]"
   ]
  },
  {
   "cell_type": "code",
   "execution_count": null,
   "id": "47c13ae0-9fc9-4e33-bffd-66863efa227d",
   "metadata": {},
   "outputs": [],
   "source": []
  }
 ],
 "metadata": {
  "kernelspec": {
   "display_name": "Python 3 (ipykernel)",
   "language": "python",
   "name": "python3"
  },
  "language_info": {
   "codemirror_mode": {
    "name": "ipython",
    "version": 3
   },
   "file_extension": ".py",
   "mimetype": "text/x-python",
   "name": "python",
   "nbconvert_exporter": "python",
   "pygments_lexer": "ipython3",
   "version": "3.12.6"
  }
 },
 "nbformat": 4,
 "nbformat_minor": 5
}
